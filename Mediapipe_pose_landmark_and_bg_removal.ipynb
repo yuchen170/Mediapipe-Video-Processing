{
  "nbformat": 4,
  "nbformat_minor": 0,
  "metadata": {
    "colab": {
      "provenance": [],
      "authorship_tag": "ABX9TyNZ8YOEtoHu0RC/cazM7P8z",
      "include_colab_link": true
    },
    "kernelspec": {
      "name": "python3",
      "display_name": "Python 3"
    },
    "language_info": {
      "name": "python"
    }
  },
  "cells": [
    {
      "cell_type": "markdown",
      "metadata": {
        "id": "view-in-github",
        "colab_type": "text"
      },
      "source": [
        "<a href=\"https://colab.research.google.com/github/yuchen170/Mediapipe-Video-Processing/blob/main/Mediapipe_pose_landmark_and_bg_removal.ipynb\" target=\"_parent\"><img src=\"https://colab.research.google.com/assets/colab-badge.svg\" alt=\"Open In Colab\"/></a>"
      ]
    },
    {
      "cell_type": "code",
      "execution_count": null,
      "metadata": {
        "colab": {
          "base_uri": "https://localhost:8080/"
        },
        "id": "jLYwEyzQgOk1",
        "outputId": "78fac02b-bff9-4c4a-fc6c-167f2652c394"
      },
      "outputs": [
        {
          "output_type": "stream",
          "name": "stdout",
          "text": [
            "Mounted at /content/drive\n"
          ]
        }
      ],
      "source": [
        "from google.colab import drive\n",
        "drive.mount('/content/drive')"
      ]
    },
    {
      "cell_type": "code",
      "source": [
        "!pip install -q mediapipe"
      ],
      "metadata": {
        "colab": {
          "base_uri": "https://localhost:8080/"
        },
        "id": "kezy_ZE_hElh",
        "outputId": "852691c9-ca2b-48ef-fc6d-cd36c9ed30e3"
      },
      "execution_count": null,
      "outputs": [
        {
          "output_type": "stream",
          "name": "stdout",
          "text": [
            "\u001b[2K     \u001b[90m━━━━━━━━━━━━━━━━━━━━━━━━━━━━━━━━━━━━━━━━\u001b[0m \u001b[32m35.6/35.6 MB\u001b[0m \u001b[31m15.0 MB/s\u001b[0m eta \u001b[36m0:00:00\u001b[0m\n",
            "\u001b[?25h"
          ]
        }
      ]
    },
    {
      "cell_type": "code",
      "source": [
        "import cv2\n",
        "import mediapipe as mp\n",
        "import csv\n",
        "import numpy as np\n",
        "import os\n",
        "from google.colab.patches import cv2_imshow\n",
        "\n",
        "def write_landmarks_to_csv(landmarks, frame_number, csv_data):\n",
        "    #print(f\"Landmark coordinates for frame {frame_number}:\")\n",
        "    for idx, landmark in enumerate(landmarks):\n",
        "        #print(f\"{mp_pose.PoseLandmark(idx).name}: (x: {landmark.x}, y: {landmark.y}, z: {landmark.z})\")\n",
        "        csv_data.append([frame_number, mp_pose.PoseLandmark(idx).name, landmark.x, landmark.y, landmark.z])\n",
        "    #print(\"\\n\")\n",
        "\n",
        "video_path = '/content/drive/MyDrive/clip_single.mp4'\n",
        "output_csv = '/content/drive/MyDrive/outputOfClip'\n",
        "landmarks_folder = 'landmarks'\n",
        "remove_bg_folder = 'remove_background'\n",
        "if not os.path.exists(landmarks_folder):\n",
        "    os.makedirs(landmarks_folder)\n",
        "if not os.path.exists(remove_bg_folder):\n",
        "    os.makedirs(remove_bg_folder)\n",
        "# Initialize MediaPipe Pose and Drawing utilities\n",
        "mp_pose = mp.solutions.pose\n",
        "mp_drawing = mp.solutions.drawing_utils\n",
        "\n",
        "#pose = mp_pose.Pose()\n",
        "pose = mp_pose.Pose(\n",
        "    static_image_mode=False,\n",
        "    model_complexity=2,\n",
        "    enable_segmentation=True,\n",
        "    min_detection_confidence=0.1,\n",
        "    smooth_landmarks=True\n",
        ")\n",
        "\n",
        "# Open the video file\n",
        "cap = cv2.VideoCapture(video_path)\n",
        "\n",
        "frame_number = 0\n",
        "csv_data = []\n",
        "\n",
        "while cap.isOpened():\n",
        "    ret, frame = cap.read()\n",
        "    if not ret:\n",
        "        break\n",
        "\n",
        "    # Convert the frame to RGB\n",
        "    frame_rgb = cv2.cvtColor(frame, cv2.COLOR_BGR2RGB)\n",
        "\n",
        "    # Create a black background image\n",
        "    black_background = np.zeros_like(frame_rgb)\n",
        "\n",
        "    # Process the frame with MediaPipe Pose\n",
        "    result = pose.process(cv2.cvtColor(frame, cv2.COLOR_BGR2RGB))\n",
        "\n",
        "    # Draw the pose landmarks on the black background\n",
        "    if result.pose_landmarks:\n",
        "        mp_drawing.draw_landmarks(black_background, result.pose_landmarks, mp_pose.POSE_CONNECTIONS)\n",
        "\n",
        "        # Add the landmark coordinates to the list and print them\n",
        "        write_landmarks_to_csv(result.pose_landmarks.landmark, frame_number, csv_data)\n",
        "\n",
        "        #save the frame\n",
        "        landmarks_image_path = os.path.join(landmarks_folder, f'landmarks_{frame_number:06d}.png')\n",
        "        cv2.imwrite(landmarks_image_path, black_background)\n",
        "    #frame_height, frame_width, _ = frame.shape\n",
        "\n",
        "    removed = frame.copy()\n",
        "    #if result_bg.segmentation_mask is not None:\n",
        "    condition = np.stack((result.segmentation_mask,) * 3, axis=-1) > 0.1\n",
        "    bg_image = np.zeros(frame.shape, dtype=np.uint8)\n",
        "    removed = np.where(condition, frame, bg_image)\n",
        "\n",
        "    # Save background removed image\n",
        "    bg_removed_image_path = os.path.join(remove_bg_folder, f'removeBG_{frame_number:06d}.png')\n",
        "    cv2.imwrite(bg_removed_image_path, removed)\n",
        "\n",
        "    # Display the combined frame\n",
        "    #print(frame_number)\n",
        "    #combined_frame = np.concatenate((removed, black_background), axis=1)\n",
        "    #cv2_imshow(combined_frame)\n",
        "\n",
        "    # Exit if 'q' key is pressed\n",
        "    if cv2.waitKey(1) & 0xFF == ord('q'):\n",
        "        break\n",
        "\n",
        "    frame_number += 1\n",
        "\n",
        "cap.release()\n",
        "\n",
        "# Save the CSV data to a file\n",
        "with open(output_csv, 'w', newline='') as csvfile:\n",
        "    csv_writer = csv.writer(csvfile)\n",
        "    csv_writer.writerow(['frame_number', 'landmark', 'x', 'y', 'z'])\n",
        "    csv_writer.writerows(csv_data)\n"
      ],
      "metadata": {
        "id": "-ZekdWUThKmS"
      },
      "execution_count": null,
      "outputs": []
    }
  ]
}